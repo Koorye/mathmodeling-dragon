{
 "cells": [
  {
   "cell_type": "code",
   "execution_count": 112,
   "metadata": {
    "collapsed": true
   },
   "outputs": [],
   "source": [
    "import pandas as pd\n",
    "import numpy as np\n",
    "from sklearn.impute import SimpleImputer\n",
    "from sklearn.preprocessing import StandardScaler\n",
    "from sklearn.decomposition import PCA\n",
    "from sklearn.mixture import GaussianMixture\n",
    "import matplotlib.pyplot as plt"
   ]
  },
  {
   "cell_type": "code",
   "execution_count": 123,
   "outputs": [
    {
     "data": {
      "text/plain": "      平均气温(℃)      降水量(mm)  平均海平面气压(hPa)  平均风速(knots)  平均能见度(km)  最低气温极值(℃)  \\\n0   -4.474000     0.000000   1012.298000    10.976000        NaN -34.732000   \n1   28.019500    99.061000   1011.319444     2.870526   4.653529  22.173000   \n2  -45.620417     0.021250           NaN     8.212174        NaN -69.905833   \n3   12.202833   599.731667   1017.850189     4.988833  13.301833 -14.908333   \n4   13.240000     0.000000   1016.290000     9.540000  12.210000   6.280000   \n5   15.598824     0.000000   1011.195000     7.806471  23.502353  -4.657059   \n6   28.019500    99.061000   1011.319444     2.870526   4.653529  22.173000   \n7   -1.330789     0.233947   1007.060000    12.400000        NaN -20.697368   \n8   22.779118  1148.603529   1012.125758     2.679118  20.593529   5.197941   \n9   14.770000   357.001905   1015.756667     6.731905  18.189500  -1.354286   \n10  27.193571   834.336190   1009.642368     2.457143   8.522619  18.165238   \n11   3.825625    10.193125           NaN     7.593125   7.963125 -28.437500   \n12  10.694615     0.000000           NaN     6.663077   8.926923  -8.538462   \n13  18.330000     0.000000           NaN     9.000000   8.530000  18.000000   \n\n    最高气温极值(℃)  最大单日降水量(mm)  最大瞬时风速极值(knots)  最大能见度(km)  最小能见度(km)  \n0   20.244000     0.000000        54.000000        NaN        NaN  \n1   33.802500    19.748500              NaN   6.569412   3.634118  \n2  -14.785833     0.021250              NaN        NaN        NaN  \n3   37.471333    83.253000        47.752381  30.934333   1.191000  \n4   24.610000     0.000000              NaN  23.660000   0.640000  \n5   32.824118     0.000000              NaN  58.125294   2.147647  \n6   33.802500    19.748500              NaN   6.569412   3.634118  \n7   15.086316     0.100263        56.120000        NaN        NaN  \n8   35.602941   138.205882        50.140000  31.088235   6.683235  \n9   31.328095    33.394286        33.620000  24.907000   4.610500  \n10  35.504048    71.543810              NaN  12.947857   3.715952  \n11  28.812500     9.637500        38.350000  11.259375   1.358750  \n12  34.923077     0.000000        48.276923  10.575385   0.990769  \n13  19.000000     0.000000        21.000000   8.530000   8.530000  ",
      "text/html": "<div>\n<style scoped>\n    .dataframe tbody tr th:only-of-type {\n        vertical-align: middle;\n    }\n\n    .dataframe tbody tr th {\n        vertical-align: top;\n    }\n\n    .dataframe thead th {\n        text-align: right;\n    }\n</style>\n<table border=\"1\" class=\"dataframe\">\n  <thead>\n    <tr style=\"text-align: right;\">\n      <th></th>\n      <th>平均气温(℃)</th>\n      <th>降水量(mm)</th>\n      <th>平均海平面气压(hPa)</th>\n      <th>平均风速(knots)</th>\n      <th>平均能见度(km)</th>\n      <th>最低气温极值(℃)</th>\n      <th>最高气温极值(℃)</th>\n      <th>最大单日降水量(mm)</th>\n      <th>最大瞬时风速极值(knots)</th>\n      <th>最大能见度(km)</th>\n      <th>最小能见度(km)</th>\n    </tr>\n  </thead>\n  <tbody>\n    <tr>\n      <th>0</th>\n      <td>-4.474000</td>\n      <td>0.000000</td>\n      <td>1012.298000</td>\n      <td>10.976000</td>\n      <td>NaN</td>\n      <td>-34.732000</td>\n      <td>20.244000</td>\n      <td>0.000000</td>\n      <td>54.000000</td>\n      <td>NaN</td>\n      <td>NaN</td>\n    </tr>\n    <tr>\n      <th>1</th>\n      <td>28.019500</td>\n      <td>99.061000</td>\n      <td>1011.319444</td>\n      <td>2.870526</td>\n      <td>4.653529</td>\n      <td>22.173000</td>\n      <td>33.802500</td>\n      <td>19.748500</td>\n      <td>NaN</td>\n      <td>6.569412</td>\n      <td>3.634118</td>\n    </tr>\n    <tr>\n      <th>2</th>\n      <td>-45.620417</td>\n      <td>0.021250</td>\n      <td>NaN</td>\n      <td>8.212174</td>\n      <td>NaN</td>\n      <td>-69.905833</td>\n      <td>-14.785833</td>\n      <td>0.021250</td>\n      <td>NaN</td>\n      <td>NaN</td>\n      <td>NaN</td>\n    </tr>\n    <tr>\n      <th>3</th>\n      <td>12.202833</td>\n      <td>599.731667</td>\n      <td>1017.850189</td>\n      <td>4.988833</td>\n      <td>13.301833</td>\n      <td>-14.908333</td>\n      <td>37.471333</td>\n      <td>83.253000</td>\n      <td>47.752381</td>\n      <td>30.934333</td>\n      <td>1.191000</td>\n    </tr>\n    <tr>\n      <th>4</th>\n      <td>13.240000</td>\n      <td>0.000000</td>\n      <td>1016.290000</td>\n      <td>9.540000</td>\n      <td>12.210000</td>\n      <td>6.280000</td>\n      <td>24.610000</td>\n      <td>0.000000</td>\n      <td>NaN</td>\n      <td>23.660000</td>\n      <td>0.640000</td>\n    </tr>\n    <tr>\n      <th>5</th>\n      <td>15.598824</td>\n      <td>0.000000</td>\n      <td>1011.195000</td>\n      <td>7.806471</td>\n      <td>23.502353</td>\n      <td>-4.657059</td>\n      <td>32.824118</td>\n      <td>0.000000</td>\n      <td>NaN</td>\n      <td>58.125294</td>\n      <td>2.147647</td>\n    </tr>\n    <tr>\n      <th>6</th>\n      <td>28.019500</td>\n      <td>99.061000</td>\n      <td>1011.319444</td>\n      <td>2.870526</td>\n      <td>4.653529</td>\n      <td>22.173000</td>\n      <td>33.802500</td>\n      <td>19.748500</td>\n      <td>NaN</td>\n      <td>6.569412</td>\n      <td>3.634118</td>\n    </tr>\n    <tr>\n      <th>7</th>\n      <td>-1.330789</td>\n      <td>0.233947</td>\n      <td>1007.060000</td>\n      <td>12.400000</td>\n      <td>NaN</td>\n      <td>-20.697368</td>\n      <td>15.086316</td>\n      <td>0.100263</td>\n      <td>56.120000</td>\n      <td>NaN</td>\n      <td>NaN</td>\n    </tr>\n    <tr>\n      <th>8</th>\n      <td>22.779118</td>\n      <td>1148.603529</td>\n      <td>1012.125758</td>\n      <td>2.679118</td>\n      <td>20.593529</td>\n      <td>5.197941</td>\n      <td>35.602941</td>\n      <td>138.205882</td>\n      <td>50.140000</td>\n      <td>31.088235</td>\n      <td>6.683235</td>\n    </tr>\n    <tr>\n      <th>9</th>\n      <td>14.770000</td>\n      <td>357.001905</td>\n      <td>1015.756667</td>\n      <td>6.731905</td>\n      <td>18.189500</td>\n      <td>-1.354286</td>\n      <td>31.328095</td>\n      <td>33.394286</td>\n      <td>33.620000</td>\n      <td>24.907000</td>\n      <td>4.610500</td>\n    </tr>\n    <tr>\n      <th>10</th>\n      <td>27.193571</td>\n      <td>834.336190</td>\n      <td>1009.642368</td>\n      <td>2.457143</td>\n      <td>8.522619</td>\n      <td>18.165238</td>\n      <td>35.504048</td>\n      <td>71.543810</td>\n      <td>NaN</td>\n      <td>12.947857</td>\n      <td>3.715952</td>\n    </tr>\n    <tr>\n      <th>11</th>\n      <td>3.825625</td>\n      <td>10.193125</td>\n      <td>NaN</td>\n      <td>7.593125</td>\n      <td>7.963125</td>\n      <td>-28.437500</td>\n      <td>28.812500</td>\n      <td>9.637500</td>\n      <td>38.350000</td>\n      <td>11.259375</td>\n      <td>1.358750</td>\n    </tr>\n    <tr>\n      <th>12</th>\n      <td>10.694615</td>\n      <td>0.000000</td>\n      <td>NaN</td>\n      <td>6.663077</td>\n      <td>8.926923</td>\n      <td>-8.538462</td>\n      <td>34.923077</td>\n      <td>0.000000</td>\n      <td>48.276923</td>\n      <td>10.575385</td>\n      <td>0.990769</td>\n    </tr>\n    <tr>\n      <th>13</th>\n      <td>18.330000</td>\n      <td>0.000000</td>\n      <td>NaN</td>\n      <td>9.000000</td>\n      <td>8.530000</td>\n      <td>18.000000</td>\n      <td>19.000000</td>\n      <td>0.000000</td>\n      <td>21.000000</td>\n      <td>8.530000</td>\n      <td>8.530000</td>\n    </tr>\n  </tbody>\n</table>\n</div>"
     },
     "execution_count": 123,
     "metadata": {},
     "output_type": "execute_result"
    }
   ],
   "source": [
    "df = pd.read_csv('data/climate-of-regions/全球部分地区气候.csv')\n",
    "df_after_drop = df.drop(['地区'], axis=1)\n",
    "df_after_drop"
   ],
   "metadata": {
    "collapsed": false,
    "pycharm": {
     "name": "#%%\n"
    }
   }
  },
  {
   "cell_type": "code",
   "execution_count": 124,
   "outputs": [
    {
     "data": {
      "text/plain": "array([[-8.01212824e-01, -6.24667752e-01, -7.16654264e-02,\n         1.35526991e+00, -3.30703851e-16, -1.12807610e+00,\n        -4.56647990e-01, -6.61155868e-01,  1.23322541e+00,\n         5.38399061e-16, -2.09675871e-16],\n       [ 9.69095949e-01, -3.49491153e-01, -4.45311936e-01,\n        -1.25689479e+00, -1.35156030e+00,  1.14708838e+00,\n         5.65411665e-01, -1.74547967e-01,  8.47234215e-16,\n        -1.05326285e+00,  1.21865922e-01],\n       [-3.04294924e+00, -6.24608723e-01, -4.34095845e-14,\n         4.64567004e-01, -3.30703851e-16, -2.53438937e+00,\n        -3.09724830e+00, -6.60632262e-01,  8.47234215e-16,\n         5.38399061e-16, -2.09675871e-16],\n       [ 1.07373335e-01,  1.04129686e+00,  2.04835312e+00,\n        -5.74224409e-01,  2.58491999e-01, -3.35490175e-01,\n         8.41973713e-01,  1.39021854e+00,  4.88274214e-01,\n         7.92938680e-01, -1.03164740e+00],\n       [ 1.63880183e-01, -6.24667752e-01,  1.45261887e+00,\n         8.92487761e-01,  5.52256959e-02,  5.11657586e-01,\n        -1.27532494e-01, -6.61155868e-01,  8.47234215e-16,\n         2.41741118e-01, -1.29180100e+00],\n       [ 2.92393454e-01, -6.24667752e-01, -4.92829149e-01,\n         3.33820309e-01,  2.15751986e+00,  7.43742588e-02,\n         4.91659765e-01, -6.61155868e-01,  8.47234215e-16,\n         2.85327749e+00, -5.79968323e-01],\n       [ 9.69095949e-01, -3.49491153e-01, -4.45311936e-01,\n        -1.25689479e+00, -1.35156030e+00,  1.14708838e+00,\n         5.65411665e-01, -1.74547967e-01,  8.47234215e-16,\n        -1.05326285e+00,  1.21865922e-01],\n       [-6.29964630e-01, -6.24017882e-01, -2.07171581e+00,\n         1.81418479e+00, -3.30703851e-16, -5.66946234e-01,\n        -8.45441805e-01, -6.58685359e-01,  1.48600916e+00,\n         5.38399061e-16, -2.09675871e-16],\n       [ 6.83589776e-01,  2.56598057e+00, -1.37433568e-01,\n        -1.31858039e+00,  1.61598500e+00,  4.68394924e-01,\n         7.01131567e-01,  2.74427109e+00,  7.72968215e-01,\n         8.04600282e-01,  1.56150099e+00],\n       [ 2.47237544e-01,  3.67029990e-01,  1.24897367e+00,\n        -1.24818355e-02,  1.16842752e+00,  2.06425081e-01,\n         3.78887398e-01,  1.61687551e-01, -1.19683719e+00,\n         3.36229964e-01,  5.82862983e-01],\n       [ 9.24097762e-01,  1.69299304e+00, -1.08567783e+00,\n        -1.39011658e+00, -6.31252975e-01,  9.86850830e-01,\n         6.93676825e-01,  1.10170121e+00,  8.47234215e-16,\n        -5.69949349e-01,  1.60504035e-01],\n       [-3.49033189e-01, -5.96352780e-01, -4.34095845e-14,\n         2.65065065e-01, -7.35413824e-01, -8.76410647e-01,\n         1.89258132e-01, -4.23685496e-01, -6.32843271e-01,\n        -6.97890591e-01, -9.52444561e-01],\n       [ 2.52027021e-02, -6.24667752e-01, -4.34095845e-14,\n        -3.46630994e-02, -5.55983808e-01, -8.08112185e-02,\n         6.49882400e-01, -6.61155868e-01,  5.50819366e-01,\n        -7.49718548e-01, -1.12618598e+00],\n       [ 4.41193235e-01, -6.24667752e-01, -4.34095845e-14,\n         7.18461048e-01, -6.29878865e-01,  9.80244313e-01,\n        -5.50422538e-01, -6.61155868e-01, -2.70161590e+00,\n        -9.04703336e-01,  2.43344741e+00]])"
     },
     "execution_count": 124,
     "metadata": {},
     "output_type": "execute_result"
    }
   ],
   "source": [
    "array_after_preprocess = SimpleImputer(missing_values=np.nan, strategy='mean').fit_transform(df_after_drop)\n",
    "array_after_preprocess = StandardScaler().fit_transform(array_after_preprocess)\n",
    "array_after_preprocess"
   ],
   "metadata": {
    "collapsed": false,
    "pycharm": {
     "name": "#%%\n"
    }
   }
  },
  {
   "cell_type": "code",
   "execution_count": 125,
   "outputs": [],
   "source": [
    "df_after_preprocess = pd.DataFrame(array_after_preprocess,\n",
    "                                   columns=df_after_drop.columns)\n",
    "df_after_preprocess.to_csv('data/climate-of-regions/全球部分地区气候-预处理后.csv')"
   ],
   "metadata": {
    "collapsed": false,
    "pycharm": {
     "name": "#%%\n"
    }
   }
  },
  {
   "cell_type": "code",
   "execution_count": 66,
   "outputs": [
    {
     "data": {
      "text/plain": "array([[ 2.10114583, -0.49416521],\n       [-1.36879921,  2.10450635],\n       [ 4.27919843, -0.87713213],\n       [-1.3591087 , -1.91105466],\n       [ 0.73556172, -0.09358325],\n       [ 0.32150294, -2.34846396],\n       [-1.36879921,  2.10450635],\n       [ 2.2754546 , -0.08437838],\n       [-3.55921839, -2.51759584],\n       [-0.81868821, -0.6681579 ],\n       [-2.65074392,  0.58345228],\n       [ 1.04433172,  0.83486061],\n       [ 0.44606639,  0.76514791],\n       [-0.07790399,  2.60205782]])"
     },
     "execution_count": 66,
     "metadata": {},
     "output_type": "execute_result"
    }
   ],
   "source": [
    "array_after_pca = PCA(n_components=2).fit_transform(array_after_preprocess)\n",
    "array_after_pca"
   ],
   "metadata": {
    "collapsed": false,
    "pycharm": {
     "name": "#%%\n"
    }
   }
  },
  {
   "cell_type": "code",
   "execution_count": 67,
   "outputs": [
    {
     "data": {
      "text/plain": "2.1011458316626674"
     },
     "execution_count": 67,
     "metadata": {},
     "output_type": "execute_result"
    }
   ],
   "source": [
    "array_after_pca[0,0]"
   ],
   "metadata": {
    "collapsed": false,
    "pycharm": {
     "name": "#%%\n"
    }
   }
  },
  {
   "cell_type": "code",
   "execution_count": 110,
   "outputs": [
    {
     "data": {
      "text/plain": "<Figure size 720x360 with 1 Axes>",
      "image/png": "[encoded data removed]"
     },
     "metadata": {
      "needs_background": "light"
     },
     "output_type": "display_data"
    }
   ],
   "source": [
    "region_list = df['地区'].tolist()\n",
    "plt.figure(figsize=(10,5))\n",
    "plt.title('Climate of Partial Areas after PCA')\n",
    "for index, region in enumerate(region_list):\n",
    "    plt.scatter(array_after_pca[index,0],\n",
    "                array_after_pca[index,1])\n",
    "    plt.annotate(region,\n",
    "                 xy=(array_after_pca[index,0],\n",
    "                     array_after_pca[index,1]),\n",
    "                 xytext=(array_after_pca[index,0],\n",
    "                         array_after_pca[index,1]+0.2))\n",
    "plt.savefig('img/全球部分地区气候-PCA 后.png')"
   ],
   "metadata": {
    "collapsed": false,
    "pycharm": {
     "name": "#%%\n"
    }
   }
  },
  {
   "cell_type": "code",
   "execution_count": 99,
   "outputs": [],
   "source": [
    "label_list = GaussianMixture(n_components=3).fit_predict(array_after_pca)"
   ],
   "metadata": {
    "collapsed": false,
    "pycharm": {
     "name": "#%%\n"
    }
   }
  },
  {
   "cell_type": "code",
   "execution_count": 108,
   "outputs": [
    {
     "data": {
      "text/plain": "array([[ 2.10114583, -0.49416521],\n       [ 4.27919843, -0.87713213],\n       [ 0.73556172, -0.09358325],\n       [ 2.2754546 , -0.08437838],\n       [ 1.04433172,  0.83486061],\n       [ 0.44606639,  0.76514791]])"
     },
     "execution_count": 108,
     "metadata": {},
     "output_type": "execute_result"
    }
   ],
   "source": [
    "label_dict = {}\n",
    "for index, label in enumerate(label_list):\n",
    "    if label not in label_dict:\n",
    "        label_dict[label] = [array_after_pca[index, :]]\n",
    "    else:\n",
    "        label_dict[label] = np.concatenate((label_dict[label],\n",
    "                                            [array_after_pca[index, :]]))"
   ],
   "metadata": {
    "collapsed": false,
    "pycharm": {
     "name": "#%%\n"
    }
   }
  },
  {
   "cell_type": "code",
   "execution_count": 109,
   "outputs": [
    {
     "data": {
      "text/plain": "<Figure size 432x288 with 1 Axes>",
      "image/png": "[encoded data removed]"
     },
     "metadata": {
      "needs_background": "light"
     },
     "output_type": "display_data"
    }
   ],
   "source": [
    "for label in label_dict:\n",
    "    plt.scatter(label_dict[label][:,0],\n",
    "                label_dict[label][:,1])"
   ],
   "metadata": {
    "collapsed": false,
    "pycharm": {
     "name": "#%%\n"
    }
   }
  },
  {
   "cell_type": "code",
   "execution_count": 161,
   "outputs": [
    {
     "data": {
      "text/plain": "<Figure size 432x288 with 1 Axes>",
      "image/png": "[encoded data removed]"
     },
     "metadata": {
      "needs_background": "light"
     },
     "output_type": "display_data"
    }
   ],
   "source": [
    "latitude_dict = {\n",
    "    40: 13,\n",
    "    33: 3,\n",
    "    29: 2,\n",
    "    45: 1,\n",
    "    43: 1,\n",
    "    37: 1,\n",
    "    20: 1,\n",
    "    3: 1\n",
    "}\n",
    "\n",
    "x, y = [], []\n",
    "for latitude in latitude_dict:\n",
    "    x.append(latitude)\n",
    "    y.append(latitude_dict[latitude])\n",
    "\n",
    "plt.title('The distribution of Dragons in Relation to Latitude')\n",
    "plt.bar(x, y)\n",
    "plt.xlabel('Latitude (unit: degree)')\n",
    "plt.ylabel('Number of Dragon')\n",
    "plt.savefig('龙的分布与纬度的关系.png')"
   ],
   "metadata": {
    "collapsed": false,
    "pycharm": {
     "name": "#%%\n"
    }
   }
  },
  {
   "cell_type": "code",
   "execution_count": 186,
   "outputs": [
    {
     "data": {
      "text/plain": "[40,\n 40,\n 40,\n 40,\n 40,\n 40,\n 40,\n 40,\n 40,\n 40,\n 40,\n 40,\n 40,\n 33,\n 33,\n 33,\n 29,\n 29,\n 45,\n 43,\n 37,\n 20,\n 3]"
     },
     "execution_count": 186,
     "metadata": {},
     "output_type": "execute_result"
    }
   ],
   "source": [
    "x_for_gaussian = []\n",
    "for latitude in latitude_dict:\n",
    "    for _ in range(latitude_dict[latitude]):\n",
    "        x_for_gaussian.append(latitude)\n",
    "\n",
    "x_for_gaussian"
   ],
   "metadata": {
    "collapsed": false,
    "pycharm": {
     "name": "#%%\n"
    }
   }
  },
  {
   "cell_type": "code",
   "execution_count": 190,
   "outputs": [
    {
     "data": {
      "text/plain": "(35.869565217391305, 8.867646851365322)"
     },
     "execution_count": 190,
     "metadata": {},
     "output_type": "execute_result"
    }
   ],
   "source": [
    "from scipy.stats import norm\n",
    "\n",
    "mu, sigma_square = norm.fit(x_for_gaussian)\n",
    "mu,sigma_square"
   ],
   "metadata": {
    "collapsed": false,
    "pycharm": {
     "name": "#%%\n"
    }
   }
  },
  {
   "cell_type": "code",
   "execution_count": 263,
   "outputs": [
    {
     "data": {
      "text/plain": "[<matplotlib.lines.Line2D at 0x140f312b970>]"
     },
     "execution_count": 263,
     "metadata": {},
     "output_type": "execute_result"
    },
    {
     "data": {
      "text/plain": "<Figure size 432x288 with 1 Axes>",
      "image/png": "[encoded data removed]"
     },
     "metadata": {
      "needs_background": "light"
     },
     "output_type": "display_data"
    }
   ],
   "source": [
    "def gaussian(x, mu, sigma):\n",
    "    return 1 / (np.sqrt(2*np.pi)*sigma) \\\n",
    "            * np.exp(-(np.power(x-mu,2)) / (2*sigma**2))\n",
    "\n",
    "x_test = np.linspace(-5,5,1000)\n",
    "y_test = gaussian(x_test,0,1)\n",
    "plt.plot(x_test, y_test)"
   ],
   "metadata": {
    "collapsed": false,
    "pycharm": {
     "name": "#%%\n"
    }
   }
  },
  {
   "cell_type": "code",
   "execution_count": 1,
   "outputs": [
    {
     "ename": "NameError",
     "evalue": "name 'np' is not defined",
     "output_type": "error",
     "traceback": [
      "\u001B[1;31m---------------------------------------------------------------------------\u001B[0m",
      "\u001B[1;31mNameError\u001B[0m                                 Traceback (most recent call last)",
      "\u001B[1;32m<ipython-input-1-456fe45e7f0a>\u001B[0m in \u001B[0;36m<module>\u001B[1;34m\u001B[0m\n\u001B[1;32m----> 1\u001B[1;33m \u001B[0mx_gaussian\u001B[0m \u001B[1;33m=\u001B[0m \u001B[0mnp\u001B[0m\u001B[1;33m.\u001B[0m\u001B[0mlinspace\u001B[0m\u001B[1;33m(\u001B[0m\u001B[1;36m0\u001B[0m\u001B[1;33m,\u001B[0m \u001B[1;36m90\u001B[0m\u001B[1;33m,\u001B[0m \u001B[1;36m10000\u001B[0m\u001B[1;33m)\u001B[0m\u001B[1;33m\u001B[0m\u001B[1;33m\u001B[0m\u001B[0m\n\u001B[0m\u001B[0;32m      2\u001B[0m \u001B[0my_gaussian\u001B[0m \u001B[1;33m=\u001B[0m \u001B[0mgaussian\u001B[0m\u001B[1;33m(\u001B[0m\u001B[0mx_gaussian\u001B[0m\u001B[1;33m,\u001B[0m \u001B[0mmu\u001B[0m\u001B[1;33m,\u001B[0m \u001B[0msigma_square\u001B[0m\u001B[1;33m)\u001B[0m\u001B[1;33m\u001B[0m\u001B[1;33m\u001B[0m\u001B[0m\n\u001B[0;32m      3\u001B[0m \u001B[0mplt\u001B[0m\u001B[1;33m.\u001B[0m\u001B[0mtitle\u001B[0m\u001B[1;33m(\u001B[0m\u001B[1;34m'The Distribution of Dragons in Relation to Latitude'\u001B[0m\u001B[1;33m)\u001B[0m\u001B[1;33m\u001B[0m\u001B[1;33m\u001B[0m\u001B[0m\n\u001B[0;32m      4\u001B[0m \u001B[0mplt\u001B[0m\u001B[1;33m.\u001B[0m\u001B[0mbar\u001B[0m\u001B[1;33m(\u001B[0m\u001B[0mx\u001B[0m\u001B[1;33m,\u001B[0m \u001B[0my\u001B[0m\u001B[1;33m/\u001B[0m\u001B[0mnp\u001B[0m\u001B[1;33m.\u001B[0m\u001B[0msum\u001B[0m\u001B[1;33m(\u001B[0m\u001B[0my\u001B[0m\u001B[1;33m)\u001B[0m\u001B[1;33m)\u001B[0m\u001B[1;33m\u001B[0m\u001B[1;33m\u001B[0m\u001B[0m\n\u001B[0;32m      5\u001B[0m \u001B[0mplt\u001B[0m\u001B[1;33m.\u001B[0m\u001B[0mplot\u001B[0m\u001B[1;33m(\u001B[0m\u001B[0mx_gaussian\u001B[0m\u001B[1;33m,\u001B[0m \u001B[0my_gaussian\u001B[0m\u001B[1;33m,\u001B[0m \u001B[0mc\u001B[0m\u001B[1;33m=\u001B[0m\u001B[1;34m'red'\u001B[0m\u001B[1;33m,\u001B[0m \u001B[0mlinestyle\u001B[0m\u001B[1;33m=\u001B[0m\u001B[1;34m'--'\u001B[0m\u001B[1;33m)\u001B[0m\u001B[1;33m\u001B[0m\u001B[1;33m\u001B[0m\u001B[0m\n",
      "\u001B[1;31mNameError\u001B[0m: name 'np' is not defined"
     ]
    }
   ],
   "source": [
    "x_gaussian = np.linspace(0, 90, 10000)\n",
    "y_gaussian = gaussian(x_gaussian, mu, sigma_square)\n",
    "plt.title('The Distribution of Dragons in Relation to Latitude')\n",
    "plt.bar(x, y/np.sum(y))\n",
    "plt.plot(x_gaussian, y_gaussian, c='red', linestyle='--')\n",
    "plt.xlabel('Latitude (unit: degree)')\n",
    "plt.ylabel('Frequency of Dragon')\n",
    "plt.savefig('龙的分布与纬度的关系-高斯分布.png')\n"
   ],
   "metadata": {
    "collapsed": false,
    "pycharm": {
     "name": "#%%\n"
    }
   }
  }
 ],
 "metadata": {
  "kernelspec": {
   "display_name": "Python 3",
   "language": "python",
   "name": "python3"
  },
  "language_info": {
   "codemirror_mode": {
    "name": "ipython",
    "version": 2
   },
   "file_extension": ".py",
   "mimetype": "text/x-python",
   "name": "python",
   "nbconvert_exporter": "python",
   "pygments_lexer": "ipython2",
   "version": "2.7.6"
  }
 },
 "nbformat": 4,
 "nbformat_minor": 0
}