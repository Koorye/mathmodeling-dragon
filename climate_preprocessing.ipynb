{
 "cells": [
  {
   "cell_type": "code",
   "execution_count": 12,
   "metadata": {
    "collapsed": true
   },
   "outputs": [],
   "source": [
    "import pandas as pd\n",
    "import numpy as np\n",
    "import os"
   ]
  },
  {
   "cell_type": "code",
   "execution_count": 18,
   "outputs": [
    {
     "data": {
      "text/plain": "['data/climate-of-regions/Alaska.xls',\n 'data/climate-of-regions/Amazon.xls',\n 'data/climate-of-regions/Antarctica.xls',\n 'data/climate-of-regions/Beijing.xls',\n 'data/climate-of-regions/California.xls',\n 'data/climate-of-regions/Chiba.xls',\n 'data/climate-of-regions/Congo.xls',\n 'data/climate-of-regions/Greenland.xls',\n 'data/climate-of-regions/Hainan.xls',\n 'data/climate-of-regions/Istanbul.xls',\n 'data/climate-of-regions/Kalimantan.xls',\n 'data/climate-of-regions/Moscow.xls',\n 'data/climate-of-regions/Paris.xls',\n 'data/climate-of-regions/Western Sahara.xls']"
     },
     "execution_count": 18,
     "metadata": {},
     "output_type": "execute_result"
    }
   ],
   "source": [
    "base_path = 'data/climate-of-regions/'\n",
    "def walk_path(path):\n",
    "    file_list = os.listdir(path)\n",
    "    path_list = []\n",
    "    for file in file_list:\n",
    "        path_list.append(os.path.join(base_path, file))\n",
    "    return path_list\n",
    "\n",
    "walk_path(base_path)"
   ],
   "metadata": {
    "collapsed": false,
    "pycharm": {
     "name": "#%%\n"
    }
   }
  },
  {
   "cell_type": "code",
   "execution_count": 19,
   "outputs": [],
   "source": [
    "according_list = ['平均气温(℃)',\n",
    "             '降水量(mm)',\n",
    "             '平均海平面气压(hPa)',\n",
    "             '平均风速(knots)',\n",
    "             '平均能见度(km)',\n",
    "             '最低气温极值(℃)',\n",
    "             '最高气温极值(℃)',\n",
    "             '最大单日降水量(mm)',\n",
    "             '最大瞬时风速极值(knots)',\n",
    "             '最大能见度(km)',\n",
    "             '最小能见度(km)']\n",
    "\n",
    "def cal_mean_of_excel(path, according_col):\n",
    "    df = pd.read_excel(path)\n",
    "    df = df[according_col]\n",
    "    array = np.nanmean(np.array(df), axis=0)\n",
    "    array = np.concatenate([[path.split('/')[-1].split('.')[0]], array])\n",
    "    matrix = np.mat(array)\n",
    "    df = pd.DataFrame(matrix, columns=['地区']+according_col)\n",
    "    return df"
   ],
   "metadata": {
    "collapsed": false,
    "pycharm": {
     "name": "#%%\n"
    }
   }
  },
  {
   "cell_type": "code",
   "execution_count": 20,
   "outputs": [],
   "source": [
    "def cal_mean_of_all_excel(path, according_col):\n",
    "    path_list = walk_path(path)\n",
    "    df = pd.DataFrame(columns=['地区']+according_list)\n",
    "    for path in path_list:\n",
    "        df = pd.concat([df, cal_mean_of_excel(path, according_col)])\n",
    "    df = df.reset_index(drop=True)\n",
    "    return df"
   ],
   "metadata": {
    "collapsed": false,
    "pycharm": {
     "name": "#%%\n"
    }
   }
  },
  {
   "cell_type": "code",
   "execution_count": 21,
   "outputs": [
    {
     "name": "stderr",
     "output_type": "stream",
     "text": [
      "<ipython-input-19-23bca4c1f04c>:16: RuntimeWarning: Mean of empty slice\n",
      "  array = np.nanmean(np.array(df), axis=0)\n"
     ]
    }
   ],
   "source": [
    "if __name__ == '__main__':\n",
    "    dataframe = cal_mean_of_all_excel(base_path, according_list)\n",
    "    dataframe.to_csv(os.path.join(base_path, '全球部分地区气候.csv'), index=None)"
   ],
   "metadata": {
    "collapsed": false,
    "pycharm": {
     "name": "#%%\n"
    }
   }
  },
  {
   "cell_type": "code",
   "execution_count": null,
   "outputs": [],
   "source": [
    "\n"
   ],
   "metadata": {
    "collapsed": false,
    "pycharm": {
     "name": "#%%\n"
    }
   }
  }
 ],
 "metadata": {
  "kernelspec": {
   "display_name": "Python 3",
   "language": "python",
   "name": "python3"
  },
  "language_info": {
   "codemirror_mode": {
    "name": "ipython",
    "version": 2
   },
   "file_extension": ".py",
   "mimetype": "text/x-python",
   "name": "python",
   "nbconvert_exporter": "python",
   "pygments_lexer": "ipython2",
   "version": "2.7.6"
  }
 },
 "nbformat": 4,
 "nbformat_minor": 0
}